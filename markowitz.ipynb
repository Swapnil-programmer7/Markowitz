{
 "cells": [
  {
   "cell_type": "code",
   "execution_count": 24,
   "metadata": {},
   "outputs": [],
   "source": [
    "#importing libraries\n",
    "import pandas as pd\n",
    "import numpy as np\n",
    "import matplotlib.pyplot as plt\n",
    "from scipy.optimize import minimize"
   ]
  },
  {
   "attachments": {},
   "cell_type": "markdown",
   "metadata": {},
   "source": [
    "The code is meant to use the Markowitz models for Portfolio management. There are a total of 69 companies belonging to different sectors. The stock prices are from 1st January 2017 to present."
   ]
  },
  {
   "cell_type": "code",
   "execution_count": 25,
   "metadata": {},
   "outputs": [],
   "source": [
    "# Read data\n",
    "df = pd.read_csv('dataset.csv', index_col=0)"
   ]
  },
  {
   "cell_type": "code",
   "execution_count": 26,
   "metadata": {},
   "outputs": [],
   "source": [
    "#calculate daily returns\n",
    "returns = df.pct_change()"
   ]
  },
  {
   "cell_type": "code",
   "execution_count": 27,
   "metadata": {},
   "outputs": [],
   "source": [
    "#calculate mean daily return and covariance of daily returns\n",
    "expected_returns = returns.mean()\n",
    "cov_matrix = returns.cov()"
   ]
  },
  {
   "cell_type": "code",
   "execution_count": 28,
   "metadata": {},
   "outputs": [],
   "source": [
    "total_inv = 100000"
   ]
  },
  {
   "cell_type": "code",
   "execution_count": 29,
   "metadata": {},
   "outputs": [],
   "source": [
    "#this is the variance risk\n",
    "def objective(w, cov_matrix):\n",
    "    return w.T @ cov_matrix @ w"
   ]
  },
  {
   "attachments": {},
   "cell_type": "markdown",
   "metadata": {},
   "source": [
    "Here are the constraints for the different sub problems."
   ]
  },
  {
   "cell_type": "code",
   "execution_count": 75,
   "metadata": {},
   "outputs": [],
   "source": [
    "#Here we have the constraints for the optimization\n",
    "Markowitz1_Constraints = ({'type': 'eq', 'fun': lambda x: np.sum(x) - 1})\n",
    "Markowitz2_Constraints = ({'type': 'eq', 'fun': lambda x: np.sum(x) - 1},\n",
    "                            {'type': 'ineq', 'fun': lambda x: x})\n",
    "Markowitz3_Constraints = ({'type': 'eq', 'fun': lambda x: np.sum(x) - 1},\n",
    "                            {'type': 'eq', 'fun': lambda x: expected_returns @ x - 0.05})\n",
    "Markowitz4_Constraints = ({'type': 'eq', 'fun': lambda x: np.sum(x) - 1},\n",
    "                            {'type': 'ineq', 'fun': lambda x: expected_returns @ x - 0.05},\n",
    "                            {'type': 'ineq', 'fun': lambda x: x})"
   ]
  },
  {
   "cell_type": "code",
   "execution_count": 76,
   "metadata": {},
   "outputs": [],
   "source": [
    "initial_weights = np.ones(len(expected_returns)) / len(expected_returns)"
   ]
  },
  {
   "cell_type": "code",
   "execution_count": 77,
   "metadata": {},
   "outputs": [],
   "source": [
    "result1 = minimize(objective, initial_weights, args=(cov_matrix), constraints=Markowitz1_Constraints)\n",
    "result2 = minimize(objective, initial_weights, args=(cov_matrix), constraints=Markowitz2_Constraints)\n",
    "result3 = minimize(objective, initial_weights, args=(cov_matrix), constraints=Markowitz3_Constraints)\n",
    "result4 = minimize(objective, initial_weights, args=(cov_matrix), constraints=Markowitz4_Constraints)"
   ]
  },
  {
   "cell_type": "code",
   "execution_count": null,
   "metadata": {},
   "outputs": [],
   "source": [
    "print(result1.x)\n",
    "print(result2.x)\n",
    "print(result3.x)\n",
    "print(result4.x)"
   ]
  },
  {
   "cell_type": "code",
   "execution_count": 78,
   "metadata": {},
   "outputs": [],
   "source": [
    "weights1 = result1.x * total_inv\n",
    "weights2 = result2.x * total_inv\n",
    "weights3 = result3.x * total_inv\n",
    "weights4 = result4.x * total_inv"
   ]
  },
  {
   "attachments": {},
   "cell_type": "markdown",
   "metadata": {},
   "source": [
    "markowitz 1"
   ]
  },
  {
   "cell_type": "code",
   "execution_count": 79,
   "metadata": {},
   "outputs": [],
   "source": [
    "weights1 = np.round(weights1, 2)\n",
    "formatted_weights1 = [format(x, '5.3f') for x in weights1]"
   ]
  },
  {
   "cell_type": "code",
   "execution_count": 80,
   "metadata": {},
   "outputs": [
    {
     "name": "stdout",
     "output_type": "stream",
     "text": [
      "Weights for Markowitz1:  ['1156.140', '-404.060', '-463.310', '333.540', '1962.710', '1110.730', '323.390', '1953.700', '1251.510', '2314.250', '-79.030', '-446.420', '664.360', '1404.510', '-636.920', '-2047.290', '494.440', '-2.170', '207.700', '2033.930', '-324.530', '589.160', '1953.700', '4691.380', '-243.090', '1714.890', '4437.150', '664.360', '427.510', '2339.560', '645.520', '3106.040', '2768.260', '3108.520', '1951.680', '2733.750', '3349.640', '3021.590', '2773.240', '-636.920', '2977.220', '2880.570', '1777.340', '3191.650', '3243.890', '2082.440', '2390.670', '2716.910', '2718.710', '1623.860', '608.800', '2365.190', '1214.100', '4158.320', '-228.400', '3819.210', '3863.120', '2446.570', '2332.600', '1739.930', '-200.920', '-1126.600', '1608.590', '-221.960', '2455.440', '246.850', '-496.280', '35.300', '-426.240']\n"
     ]
    }
   ],
   "source": [
    "print(\"Weights for Markowitz1: \", formatted_weights)"
   ]
  },
  {
   "cell_type": "code",
   "execution_count": 81,
   "metadata": {},
   "outputs": [],
   "source": [
    "portfolio_return1 = expected_returns @ weights\n",
    "portfolio_variance1 = result.fun"
   ]
  },
  {
   "cell_type": "code",
   "execution_count": 82,
   "metadata": {},
   "outputs": [
    {
     "data": {
      "text/plain": [
       "(18.650325038441714, 8.691280635103047e-05)"
      ]
     },
     "execution_count": 82,
     "metadata": {},
     "output_type": "execute_result"
    }
   ],
   "source": [
    "portfolio_return1, portfolio_variance1"
   ]
  },
  {
   "attachments": {},
   "cell_type": "markdown",
   "metadata": {},
   "source": [
    "markowitz 2"
   ]
  },
  {
   "cell_type": "code",
   "execution_count": 83,
   "metadata": {},
   "outputs": [],
   "source": [
    "weights2 = np.round(weights2, 2)\n",
    "formatted_weights2 = [format(x, '5.3f') for x in weights2]"
   ]
  },
  {
   "cell_type": "code",
   "execution_count": 84,
   "metadata": {},
   "outputs": [
    {
     "name": "stdout",
     "output_type": "stream",
     "text": [
      "Weights for Markowitz2:  ['1142.550', '0.000', '0.000', '466.770', '1828.890', '1098.520', '424.880', '1799.480', '1220.170', '2118.860', '122.210', '-0.000', '727.140', '1369.360', '0.000', '-0.000', '549.800', '-0.000', '327.940', '1881.740', '0.000', '660.690', '1799.480', '4168.000', '-0.000', '1607.320', '3873.170', '727.140', '519.490', '2180.620', '713.850', '2775.440', '2493.120', '2782.290', '1802.590', '2478.220', '2989.270', '2720.400', '2495.550', '0.000', '2647.870', '2597.390', '1639.100', '2866.300', '2913.000', '1932.620', '2192.550', '2459.500', '2465.890', '1535.660', '670.660', '2153.100', '1183.450', '3630.940', '9.300', '3340.340', '3438.820', '2223.500', '2145.820', '1633.860', '-0.000', '0.000', '1527.050', '75.980', '2236.090', '355.030', '26.740', '234.480', '-0.000']\n"
     ]
    }
   ],
   "source": [
    "print(\"Weights for Markowitz2: \", formatted_weights2)"
   ]
  },
  {
   "cell_type": "code",
   "execution_count": 85,
   "metadata": {},
   "outputs": [],
   "source": [
    "portfolio_return2 = expected_returns @ weights2\n",
    "portfolio_variance2 = result2.fun"
   ]
  },
  {
   "cell_type": "code",
   "execution_count": 86,
   "metadata": {},
   "outputs": [
    {
     "data": {
      "text/plain": [
       "(30.627620609405007, 8.768439787294926e-05)"
      ]
     },
     "execution_count": 86,
     "metadata": {},
     "output_type": "execute_result"
    }
   ],
   "source": [
    "portfolio_return2, portfolio_variance2"
   ]
  },
  {
   "attachments": {},
   "cell_type": "markdown",
   "metadata": {},
   "source": [
    "Markowitz 3"
   ]
  },
  {
   "cell_type": "code",
   "execution_count": 87,
   "metadata": {},
   "outputs": [],
   "source": [
    "weights3 = np.round(weights3, 2)\n",
    "formatted_weights3 = [format(x, '5.3f') for x in weights3]"
   ]
  },
  {
   "cell_type": "code",
   "execution_count": 88,
   "metadata": {},
   "outputs": [
    {
     "name": "stdout",
     "output_type": "stream",
     "text": [
      "Weights for Markowitz3:  ['76018.180', '1448.120', '-2686.290', '72081.350', '153980.410', '25698.170', '-35805.420', '44770.640', '-194584.320', '-83269.280', '176574.850', '121361.170', '-127038.630', '-85885.820', '32571.120', '39497.380', '-227388.790', '10028.620', '-18169.700', '46540.590', '142361.990', '-42003.820', '44770.680', '-20955.090', '93556.350', '21639.830', '121015.730', '-127038.740', '16349.070', '-204846.430', '81740.240', '71837.690', '58606.970', '-138699.280', '-152889.250', '95129.330', '14150.300', '-117618.860', '94261.670', '32571.130', '49725.170', '17056.280', '63689.500', '-143763.920', '-5859.150', '89318.250', '-274287.190', '186898.100', '-12803.580', '22108.260', '95724.720', '-87842.660', '45241.100', '161682.840', '113298.440', '145163.350', '107721.530', '-34251.770', '-386953.680', '-155501.770', '59412.560', '-27519.890', '12182.160', '19910.480', '-71336.050', '-57521.010', '20615.600', '36992.120', '1218.350']\n"
     ]
    }
   ],
   "source": [
    "print(\"Weights for Markowitz3: \", formatted_weights3)"
   ]
  },
  {
   "cell_type": "code",
   "execution_count": 89,
   "metadata": {},
   "outputs": [],
   "source": [
    "portfolio_return3 = expected_returns @ weights3\n",
    "portfolio_variance3 = result3.fun"
   ]
  },
  {
   "cell_type": "code",
   "execution_count": 90,
   "metadata": {},
   "outputs": [
    {
     "data": {
      "text/plain": [
       "(5000.000015715431, 0.060522767649356886)"
      ]
     },
     "execution_count": 90,
     "metadata": {},
     "output_type": "execute_result"
    }
   ],
   "source": [
    "portfolio_return3, portfolio_variance3"
   ]
  },
  {
   "attachments": {},
   "cell_type": "markdown",
   "metadata": {},
   "source": [
    "Markowitz 4"
   ]
  },
  {
   "cell_type": "code",
   "execution_count": 91,
   "metadata": {},
   "outputs": [],
   "source": [
    "weights4 = np.round(weights4, 2)\n",
    "formatted_weights4 = [format(x, '5.3f') for x in weights4]"
   ]
  },
  {
   "cell_type": "code",
   "execution_count": 92,
   "metadata": {},
   "outputs": [
    {
     "name": "stdout",
     "output_type": "stream",
     "text": [
      "Weights for Markowitz4:  ['-0.000', '-0.000', '0.000', '0.000', '0.000', '0.000', '0.000', '-0.000', '-0.000', '-0.000', '0.000', '0.000', '-0.000', '-0.000', '0.000', '100000.000', '-0.000', '0.000', '-0.000', '0.000', '-0.000', '-0.000', '0.000', '-0.000', '0.000', '0.000', '-0.000', '-0.000', '-0.000', '-0.000', '-0.000', '-0.000', '-0.000', '-0.000', '0.000', '0.000', '-0.000', '-0.000', '-0.000', '0.000', '-0.000', '-0.000', '0.000', '-0.000', '0.000', '0.000', '-0.000', '0.000', '0.000', '-0.000', '-0.000', '0.000', '0.000', '-0.000', '0.000', '0.000', '-0.000', '-0.000', '-0.000', '0.000', '-0.000', '-0.000', '-0.000', '-0.000', '0.000', '-0.000', '0.000', '0.000', '-0.000']\n"
     ]
    }
   ],
   "source": [
    "print(\"Weights for Markowitz4: \", formatted_weights4)"
   ]
  },
  {
   "cell_type": "code",
   "execution_count": 93,
   "metadata": {},
   "outputs": [],
   "source": [
    "portfolio_return4 = expected_returns @ weights4\n",
    "portfolio_variance4 = result4.fun"
   ]
  },
  {
   "cell_type": "code",
   "execution_count": 94,
   "metadata": {},
   "outputs": [
    {
     "data": {
      "text/plain": [
       "(524.7555539059308, 0.01219689548798662)"
      ]
     },
     "execution_count": 94,
     "metadata": {},
     "output_type": "execute_result"
    }
   ],
   "source": [
    "portfolio_return4, portfolio_variance4"
   ]
  },
  {
   "cell_type": "code",
   "execution_count": null,
   "metadata": {},
   "outputs": [],
   "source": [
    "# Markowitz Curve for 1\n",
    "returns = []\n",
    "risks = []\n",
    "for target_return in np.linspace(0.05, 0.20, 100):\n",
    "    constraints = [{'type': 'eq', 'fun': lambda x: np.sum(x) - 1}]\n",
    "    result = minimize(objective, initial_weights, args=(cov_matrix,), constraints= constraints)\n",
    "    returns.append(target_return)\n",
    "    risks.append(result.fun)\n",
    "\n",
    "# Plot Markowitz Curve\n",
    "plt.figure(figsize=(10, 6))\n",
    "plt.plot(risks, returns, label='Markowitz Curve', marker='o', linestyle='-', color='b')\n",
    "plt.scatter([portfolio_variance1],\n",
    "            [portfolio_return1],\n",
    "            color='r', marker='*', label='Optimal Portfolios')\n",
    "plt.xlabel('Portfolio Variance')\n",
    "plt.ylabel('Portfolio Return')\n",
    "plt.title('Markowitz Curve and Optimal Portfolios')\n",
    "plt.legend()\n",
    "plt.grid(True)\n",
    "plt.show()"
   ]
  },
  {
   "cell_type": "code",
   "execution_count": null,
   "metadata": {},
   "outputs": [],
   "source": [
    "# Markowitz Curve for 2\n",
    "returns = []\n",
    "risks = []\n",
    "for target_return in np.linspace(0.05, 0.20, 100):\n",
    "    constraints = [{'type': 'eq', 'fun': lambda x: np.sum(x) - 1},\n",
    "                            {'type': 'ineq', 'fun': lambda x: x}]\n",
    "    result = minimize(objective, initial_weights, args=(cov_matrix,), constraints= constraints)\n",
    "    returns.append(target_return)\n",
    "    risks.append(result.fun)\n",
    "\n",
    "# Plot Markowitz Curve\n",
    "plt.figure(figsize=(10, 6))\n",
    "plt.plot(risks, returns, label='Markowitz Curve', marker='o', linestyle='-', color='b')\n",
    "plt.scatter([portfolio_variance2],\n",
    "            [portfolio_return2],\n",
    "            color='r', marker='*', label='Optimal Portfolios')\n",
    "plt.xlabel('Portfolio Variance')\n",
    "plt.ylabel('Portfolio Return')\n",
    "plt.title('Markowitz Curve and Optimal Portfolios')\n",
    "plt.legend()\n",
    "plt.grid(True)\n",
    "plt.show()"
   ]
  },
  {
   "cell_type": "code",
   "execution_count": null,
   "metadata": {},
   "outputs": [],
   "source": [
    "# Markowitz Curve for 3\n",
    "returns = []\n",
    "risks = []\n",
    "for target_return in np.linspace(0.05, 0.20, 100):\n",
    "    constraints = [{'type': 'eq', 'fun': lambda x: np.sum(x) - 1},\n",
    "                            {'type': 'eq', 'fun': lambda x: expected_returns @ x - 0.05}]\n",
    "    result = minimize(objective, initial_weights, args=(cov_matrix,), constraints= constraints)\n",
    "    returns.append(target_return)\n",
    "    risks.append(result.fun)\n",
    "\n",
    "# Plot Markowitz Curve\n",
    "plt.figure(figsize=(10, 6))\n",
    "plt.plot(risks, returns, label='Markowitz Curve', marker='o', linestyle='-', color='b')\n",
    "plt.scatter([portfolio_variance2],\n",
    "            [portfolio_return2],\n",
    "            color='r', marker='*', label='Optimal Portfolios')\n",
    "plt.xlabel('Portfolio Variance')\n",
    "plt.ylabel('Portfolio Return')\n",
    "plt.title('Markowitz Curve and Optimal Portfolios')\n",
    "plt.legend()\n",
    "plt.grid(True)\n",
    "plt.show()"
   ]
  },
  {
   "cell_type": "code",
   "execution_count": null,
   "metadata": {},
   "outputs": [],
   "source": [
    "# Markowitz Curve for 4\n",
    "returns = []\n",
    "risks = []\n",
    "for target_return in np.linspace(0.05, 0.20, 100):\n",
    "    constraints = [{'type': 'eq', 'fun': lambda x: np.sum(x) - 1},\n",
    "                            {'type': 'ineq', 'fun': lambda x: expected_returns @ x - 0.05},\n",
    "                            {'type': 'ineq', 'fun': lambda x: x}]\n",
    "    result = minimize(objective, initial_weights, args=(cov_matrix,), constraints= constraints)\n",
    "    returns.append(target_return)\n",
    "    risks.append(result.fun)\n",
    "\n",
    "# Plot Markowitz Curve\n",
    "plt.figure(figsize=(10, 6))\n",
    "plt.plot(risks, returns, label='Markowitz Curve', marker='o', linestyle='-', color='b')\n",
    "plt.scatter([portfolio_variance2],\n",
    "            [portfolio_return2],\n",
    "            color='r', marker='*', label='Optimal Portfolios')\n",
    "plt.xlabel('Portfolio Variance')\n",
    "plt.ylabel('Portfolio Return')\n",
    "plt.title('Markowitz Curve and Optimal Portfolios')\n",
    "plt.legend()\n",
    "plt.grid(True)\n",
    "plt.show()"
   ]
  },
  {
   "cell_type": "code",
   "execution_count": 96,
   "metadata": {},
   "outputs": [],
   "source": [
    "# Calculate portfolio returns and risks\n",
    "def portfolio_performance(weights, expected_returns, covariance_matrix):\n",
    "    portfolio_return = np.sum(weights * expected_returns)\n",
    "    portfolio_risk = np.sqrt(np.dot(weights.T, np.dot(covariance_matrix, weights)))\n",
    "    return portfolio_return, portfolio_risk\n",
    "\n",
    "# Define the objective function for portfolio optimization\n",
    "def objective2(weights, expected_returns, covariance_matrix):\n",
    "    portfolio_return, portfolio_risk = portfolio_performance(weights, expected_returns, covariance_matrix)\n",
    "    return portfolio_risk"
   ]
  },
  {
   "cell_type": "code",
   "execution_count": null,
   "metadata": {},
   "outputs": [],
   "source": [
    "# Calculate the Markowitz Curve for 1\n",
    "returns = []\n",
    "risks = []\n",
    "for target_return in np.linspace(0.05, 0.20, 100):\n",
    "    constraints = [{'type': 'eq', 'fun': lambda x: np.sum(x) - 1}]\n",
    "    result = minimize(objective2, initial_weights, args=(expected_returns, cov_matrix), constraints=constraints)\n",
    "    portfolio_return, portfolio_risk = portfolio_performance(result.x, expected_returns, cov_matrix)\n",
    "    returns.append(portfolio_return)\n",
    "    risks.append(portfolio_risk)\n",
    "\n",
    "# Plot Markowitz Curve\n",
    "plt.figure(figsize=(10, 6))\n",
    "plt.plot(risks, returns, label='Markowitz Curve', marker='o', linestyle='-', color='b')\n",
    "\n",
    "plt.xlabel('Portfolio Risk (Standard Deviation)')\n",
    "plt.ylabel('Portfolio Return')\n",
    "plt.title('Markowitz Curve')\n",
    "plt.grid(True)\n",
    "plt.show()\n",
    "\n",
    "\n"
   ]
  },
  {
   "cell_type": "code",
   "execution_count": null,
   "metadata": {},
   "outputs": [],
   "source": [
    "# Calculate the Markowitz Curve for 2\n",
    "returns = []\n",
    "risks = []\n",
    "for target_return in np.linspace(0.05, 0.20, 100):\n",
    "    constraints = [{'type': 'eq', 'fun': lambda x: np.sum(x) - 1},\n",
    "                            {'type': 'ineq', 'fun': lambda x: x}]\n",
    "    result = minimize(objective2, initial_weights, args=(expected_returns, cov_matrix), constraints=constraints)\n",
    "    portfolio_return, portfolio_risk = portfolio_performance(result.x, expected_returns, cov_matrix)\n",
    "    returns.append(portfolio_return)\n",
    "    risks.append(portfolio_risk)\n",
    "\n",
    "# Plot Markowitz Curve\n",
    "plt.figure(figsize=(10, 6))\n",
    "plt.plot(risks, returns, label='Markowitz Curve', marker='o', linestyle='-', color='b')\n",
    "\n",
    "plt.xlabel('Portfolio Risk (Standard Deviation)')\n",
    "plt.ylabel('Portfolio Return')\n",
    "plt.title('Markowitz Curve')\n",
    "plt.grid(True)\n",
    "plt.show()"
   ]
  },
  {
   "cell_type": "code",
   "execution_count": null,
   "metadata": {},
   "outputs": [],
   "source": [
    "# Calculate the Markowitz Curve for 3\n",
    "returns = []\n",
    "risks = []\n",
    "for target_return in np.linspace(0.05, 0.20, 100):\n",
    "    constraints = [{'type': 'eq', 'fun': lambda w: np.sum(w) - 1},\n",
    "                {'type': 'eq', 'fun': lambda w: expected_returns @ w - target_return}]\n",
    "    result = minimize(objective2, initial_weights, args=(expected_returns, cov_matrix), constraints=constraints)\n",
    "    portfolio_return, portfolio_risk = portfolio_performance(result.x, expected_returns, cov_matrix)\n",
    "    returns.append(portfolio_return)\n",
    "    risks.append(portfolio_risk)\n",
    "\n",
    "# Plot Markowitz Curve\n",
    "plt.figure(figsize=(10, 6))\n",
    "plt.plot(risks, returns, label='Markowitz Curve', marker='o', linestyle='-', color='b')\n",
    "plt.scatter([portfolio_variance2],\n",
    "            [portfolio_return2],\n",
    "            color='r', marker='*', label='Optimal Portfolios')\n",
    "plt.xlabel('Portfolio Risk (Standard Deviation)')\n",
    "plt.ylabel('Portfolio Return')\n",
    "plt.title('Markowitz Curve')\n",
    "plt.grid(True)\n",
    "plt.show()"
   ]
  },
  {
   "cell_type": "code",
   "execution_count": null,
   "metadata": {},
   "outputs": [],
   "source": [
    "# Calculate the Markowitz Curve for 4\n",
    "returns = []\n",
    "risks = []\n",
    "for target_return in np.linspace(0.05, 0.20, 100):\n",
    "    constraints = [{'type': 'eq', 'fun': lambda x: np.sum(x) - 1},\n",
    "                            {'type': 'ineq', 'fun': lambda x: expected_returns @ x - target_return},\n",
    "                            {'type': 'ineq', 'fun': lambda x: x}]\n",
    "    result = minimize(objective2, initial_weights, args=(expected_returns, cov_matrix), constraints=constraints)\n",
    "    portfolio_return, portfolio_risk = portfolio_performance(result.x, expected_returns, cov_matrix)\n",
    "    returns.append(portfolio_return)\n",
    "    risks.append(portfolio_risk)\n",
    "\n",
    "# Plot Markowitz Curve\n",
    "plt.figure(figsize=(10, 6))\n",
    "plt.plot(risks, returns, label='Markowitz Curve', marker='o', linestyle='-', color='b')\n",
    "\n",
    "plt.xlabel('Portfolio Risk (Standard Deviation)')\n",
    "plt.ylabel('Portfolio Return')\n",
    "plt.title('Markowitz Curve')\n",
    "plt.grid(True)\n",
    "plt.show()"
   ]
  },
  {
   "cell_type": "code",
   "execution_count": null,
   "metadata": {},
   "outputs": [],
   "source": [
    "# Calculate the Markowitz Curve\n",
    "returns = []\n",
    "risks = []\n",
    "for target_return in np.linspace(0.05, 0.20, 100):\n",
    "    constraints = [{'type': 'eq', 'fun': lambda w: np.sum(w) - 1},\n",
    "                   {'type': 'eq', 'fun': lambda w: np.sum(w * expected_returns) - target_return}]\n",
    "    result = minimize(objective2, initial_weights, args=(expected_returns, cov_matrix), constraints=constraints)\n",
    "    portfolio_return, portfolio_risk = portfolio_performance(result.x, expected_returns, cov_matrix)\n",
    "    returns.append(portfolio_return)\n",
    "    risks.append(portfolio_risk)\n",
    "\n",
    "# Plot Markowitz Curve\n",
    "plt.figure(figsize=(10, 6))\n",
    "plt.plot(risks, returns, label='Markowitz Curve', marker='o', linestyle='-', color='b')\n",
    "\n",
    "plt.xlabel('Portfolio Risk (Standard Deviation)')\n",
    "plt.ylabel('Portfolio Return')\n",
    "plt.title('Markowitz Curve')\n",
    "plt.grid(True)\n",
    "plt.show()\n",
    "\n",
    "\n"
   ]
  },
  {
   "cell_type": "code",
   "execution_count": null,
   "metadata": {},
   "outputs": [],
   "source": [
    "plt.scatter([portfolio_variance1, portfolio_variance2, portfolio_variance3, portfolio_variance4],\n",
    "            [portfolio_return1, portfolio_return2, portfolio_return3, portfolio_return4],\n",
    "            color='r', marker='*', label='Optimal Portfolios')\n",
    "plt.xlabel('Portfolio Variance')\n",
    "plt.ylabel('Portfolio Return')\n",
    "plt.title('Optimal Portfolios')\n",
    "plt.legend()\n",
    "plt.grid(True)\n",
    "plt.show()"
   ]
  },
  {
   "cell_type": "code",
   "execution_count": null,
   "metadata": {},
   "outputs": [],
   "source": []
  }
 ],
 "metadata": {
  "kernelspec": {
   "display_name": "Python 3",
   "language": "python",
   "name": "python3"
  },
  "language_info": {
   "codemirror_mode": {
    "name": "ipython",
    "version": 3
   },
   "file_extension": ".py",
   "mimetype": "text/x-python",
   "name": "python",
   "nbconvert_exporter": "python",
   "pygments_lexer": "ipython3",
   "version": "3.11.4"
  },
  "orig_nbformat": 4
 },
 "nbformat": 4,
 "nbformat_minor": 2
}
